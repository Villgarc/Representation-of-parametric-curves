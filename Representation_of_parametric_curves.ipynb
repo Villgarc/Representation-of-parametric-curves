{
  "nbformat": 4,
  "nbformat_minor": 0,
  "metadata": {
    "colab": {
      "name": "Representation of parametric curves.ipynb",
      "provenance": [],
      "collapsed_sections": [],
      "authorship_tag": "ABX9TyO/n18L9VvC5MqAJRy/nO6f",
      "include_colab_link": true
    },
    "kernelspec": {
      "name": "python3",
      "display_name": "Python 3"
    },
    "language_info": {
      "name": "python"
    }
  },
  "cells": [
    {
      "cell_type": "markdown",
      "metadata": {
        "id": "view-in-github",
        "colab_type": "text"
      },
      "source": [
        "<a href=\"https://colab.research.google.com/github/Villgarc/Representation-of-parametric-curves/blob/main/Representation_of_parametric_curves.ipynb\" target=\"_parent\"><img src=\"https://colab.research.google.com/assets/colab-badge.svg\" alt=\"Open In Colab\"/></a>"
      ]
    },
    {
      "cell_type": "code",
      "execution_count": 12,
      "metadata": {
        "id": "E79reVWiLZsK"
      },
      "outputs": [],
      "source": [
        "import matplotlib.pyplot as plt\n",
        "import numpy as np\n",
        "import pandas as pd\n",
        "from typing import Callable"
      ]
    },
    {
      "cell_type": "code",
      "source": [
        "%matplotlib inline"
      ],
      "metadata": {
        "id": "WZrHd55EQd-L"
      },
      "execution_count": 4,
      "outputs": []
    },
    {
      "cell_type": "markdown",
      "source": [
        "## **Exercise 1**\n",
        "Plot a graph of the following parametric curve.\n",
        "\n",
        "\\begin{cases} x=cos(Θ)\\\\y=2sin(2Θ)\\end{cases}\n"
      ],
      "metadata": {
        "id": "eLwuI6eDLvp7"
      }
    },
    {
      "cell_type": "markdown",
      "source": [
        "Before starting, I will defined a function that will be helpful to represent some curves."
      ],
      "metadata": {
        "id": "bxMOQvgZ1mLG"
      }
    },
    {
      "cell_type": "code",
      "source": [
        "def plot(x_func : Callable,y_func : Callable,qty : int = 6000,range_ : list = [-500,500]):\n",
        "  coordinates = {'x':[],'y':[]}\n",
        "  for i in np.linspace(range_[0],range_[1],qty):\n",
        "    coordinates['x'].append(x_func(i))\n",
        "    coordinates['y'].append(y_func(i))\n",
        "  plt.title('Solution')\n",
        "  plt.xlabel('X')\n",
        "  plt.ylabel('Y')\n",
        "  plt.grid(True)\n",
        "  return plt.plot(coordinates['x'],coordinates['y'])"
      ],
      "metadata": {
        "id": "1rwXVVFbR7iH"
      },
      "execution_count": 72,
      "outputs": []
    },
    {
      "cell_type": "markdown",
      "source": [
        "First, we defined the functions for x and y in terms of the parameter Θ."
      ],
      "metadata": {
        "id": "-TNge8t70_1C"
      }
    },
    {
      "cell_type": "code",
      "source": [
        "def x1(theta) : \n",
        "  return np.cos(theta)\n",
        "def y1 (theta):\n",
        "  return 2*np.sin(2*theta)"
      ],
      "metadata": {
        "id": "VNOyUT27LuYD"
      },
      "execution_count": 62,
      "outputs": []
    },
    {
      "cell_type": "markdown",
      "source": [
        "Lastly, we plot the curve"
      ],
      "metadata": {
        "id": "hJU6b2Da1YTC"
      }
    },
    {
      "cell_type": "code",
      "source": [
        "plot(x1,y1)\n",
        "plt.show()"
      ],
      "metadata": {
        "colab": {
          "base_uri": "https://localhost:8080/",
          "height": 295
        },
        "id": "7BEC0ZT7QRkZ",
        "outputId": "bd258b69-fe3a-45db-a3e1-a878bba8e67f"
      },
      "execution_count": 63,
      "outputs": [
        {
          "output_type": "display_data",
          "data": {
            "text/plain": [
              "<Figure size 432x288 with 1 Axes>"
            ],
            "image/png": "[encoded data removed]"
          },
          "metadata": {
            "needs_background": "light"
          }
        }
      ]
    },
    {
      "cell_type": "markdown",
      "source": [
        "## **Exercise 2**\n",
        "Plot the graph of the following curve\n",
        "\n",
        "\\begin{cases}x=sec(t)\\\\y=tan(t)\\end{cases}"
      ],
      "metadata": {
        "id": "74sUzqNcRVOn"
      }
    },
    {
      "cell_type": "markdown",
      "source": [
        "By doing some math and taking into account that $sec^2(Θ)=tan^2(Θ)+1$, we can define the curve as the set of points such that $x^2 - y^2 = 1$, being x the x coordinate of the point and y the y coordinate of the point.\n",
        "\n",
        "If $x^2 - y^2 = 1$, that means that $x = \\pm \\sqrt{x^2 - 1}$. We can use this equation to find the values of x given the values of y. Notice that even if I am using the equation for y in this example, the equation for x in terms of y would work either."
      ],
      "metadata": {
        "id": "YzmEeuoRjV09"
      }
    },
    {
      "cell_type": "code",
      "source": [
        "def y2(x):\n",
        "  return np.sqrt(x**2 -1)\n"
      ],
      "metadata": {
        "id": "2Gpb__1ZRDzO"
      },
      "execution_count": 64,
      "outputs": []
    },
    {
      "cell_type": "markdown",
      "source": [
        "Since we can guess from the equation that the curve is a hyperbola, we can be sure there will be asymptotes. The asymptote would be a funcion of the form $y=mx + n$ where $m=\\lim _{x\\to ∞}\\frac{f(x)}{x} $ and $n= lim_{x\\to∞}f(x) - mx$. In this case,  $f(x) = \\pm \\sqrt{x^2 - 1}$, so there will be two different asymptotes. In this example, x=$\\pm1$ and n=0."
      ],
      "metadata": {
        "id": "Ke8WAoL5pa7y"
      }
    },
    {
      "cell_type": "markdown",
      "source": [
        "It is important to mentioned that the domain of the functions is $(-∞,+∞)$ and its codomain is $(-∞,+∞)\\backslash$$(-1,+1)$"
      ],
      "metadata": {
        "id": "5lFqS_YUvkbX"
      }
    },
    {
      "cell_type": "markdown",
      "source": [
        "Having said that, in order to sketch the graph, the range of values that will be used should not include values of the interval (-1,+1) because within this interval of x the equation for y has no real solutions.\n",
        "Considering that y has two values for a single value of x(one greater than 0 an another smaller than 0) and that it is defined within the real numbers both for values greater than 1 or smaller than -1, it is possible to sketch the curve using just one range of numbers by dividing the plane into four quadrants, two considering the negative value of y, and two considering its positive value. The same happens with x."
      ],
      "metadata": {
        "id": "mi6_3yFt9P9g"
      }
    },
    {
      "cell_type": "code",
      "source": [
        "def plot_hyperbola(y:Callable,min_range : int = 1,max_range: int = 10):\n",
        "  x2_coor = np.linspace(min_range,max_range,200) \n",
        "\n",
        "  #First quadrant (x>0,y>0)\n",
        "  plt.plot(x2_coor,y(x2_coor),color='b')\n",
        "  # Second quadrant(x<0,y>0)\n",
        "  plt.plot(-x2_coor,y(x2_coor),color='b')\n",
        "  # Third quadrant (x<0,y<0)\n",
        "  plt.plot(-x2_coor,-y(x2_coor),color='b')\n",
        "  # Fourth quadrant (x>0,y<0)\n",
        "  plt.plot(x2_coor,-y(x2_coor),color='b')\n",
        "\n",
        "  #Asymptotes\n",
        "  plt.plot(np.arange(-5,5),np.arange(-5,5),color='r')\n",
        "  plt.plot(np.arange(-5,5),-np.arange(-5,5),color='y')\n",
        "\n",
        "\n",
        "  plt.grid(True)\n",
        "  plt.title('Solution')\n",
        "  plt.xlabel('X')\n",
        "  plt.ylabel('Y')\n",
        "  plt.show()"
      ],
      "metadata": {
        "id": "z055uTbuWAaJ"
      },
      "execution_count": 65,
      "outputs": []
    },
    {
      "cell_type": "code",
      "source": [
        "plot_hyperbola(y2,max_range=5)"
      ],
      "metadata": {
        "colab": {
          "base_uri": "https://localhost:8080/",
          "height": 295
        },
        "id": "GZVtDqi8XCTw",
        "outputId": "aa1ab7d5-b53c-4ec0-eb46-aafcd39442b1"
      },
      "execution_count": 66,
      "outputs": [
        {
          "output_type": "display_data",
          "data": {
            "text/plain": [
              "<Figure size 432x288 with 1 Axes>"
            ],
            "image/png": "[encoded data removed]"
          },
          "metadata": {
            "needs_background": "light"
          }
        }
      ]
    },
    {
      "cell_type": "markdown",
      "source": [
        "For those who wonder, the reason why I did not use the previous function along the parametric equations to sketch the graph is that generating a range of values for x such that the interval from -1 to +1 was depicted as undefined for y was a challenging task, so working with rectangular coordinates gave me more control about the range of values I could use. Besides, working with rectangular coordinates helps to understand some aspects of the curve."
      ],
      "metadata": {
        "id": "ZWO_7oIREhIh"
      }
    },
    {
      "cell_type": "markdown",
      "source": [
        "## **Exercise 3**\n",
        "Sketch the graph and find the domain of the curve described by the following set of parametric equations.\n",
        "\n",
        "\\begin{cases} x=ln(5t)\\\\y=ln(t^2)\\end{cases}"
      ],
      "metadata": {
        "id": "VTDaRUFqYQvh"
      }
    },
    {
      "cell_type": "code",
      "source": [
        "def x3(t):\n",
        "  return np.log(5*t)\n",
        "def y3(t):\n",
        "  return np.log(t**2)"
      ],
      "metadata": {
        "id": "9P1Q9JNDYU1b"
      },
      "execution_count": 67,
      "outputs": []
    },
    {
      "cell_type": "markdown",
      "source": [
        "Notice that ln(t) is not defined in x ∈ (-∞,0), so we must choose the range of values so that we exclude the numbers within this interval."
      ],
      "metadata": {
        "id": "Or58vTHvdu7D"
      }
    },
    {
      "cell_type": "code",
      "source": [
        "t3 = np.linspace(1,1000,300)\n",
        "plot(x3,y3,range_=[1,10000])\n",
        "plt.show()"
      ],
      "metadata": {
        "colab": {
          "base_uri": "https://localhost:8080/",
          "height": 295
        },
        "id": "7-ctGQt_Z-H2",
        "outputId": "b48d811f-1163-4ed0-8ff8-d09dfe027a83"
      },
      "execution_count": 68,
      "outputs": [
        {
          "output_type": "display_data",
          "data": {
            "text/plain": [
              "<Figure size 432x288 with 1 Axes>"
            ],
            "image/png": "[encoded data removed]"
          },
          "metadata": {
            "needs_background": "light"
          }
        }
      ]
    },
    {
      "cell_type": "markdown",
      "source": [
        "The function above is a linear function whose equation is y = x-ln(5), so its domain (-∞,+∞)"
      ],
      "metadata": {
        "id": "awV2zpHmcr_M"
      }
    },
    {
      "cell_type": "markdown",
      "source": [
        " ## **Exercise 4**\n",
        "Sketch the graph of a circle whose center is located at (-2,3) and its radius is 5."
      ],
      "metadata": {
        "id": "JirUh9oje-7m"
      }
    },
    {
      "cell_type": "markdown",
      "source": [
        "The parametric equations of a graph are\n",
        "\\begin{cases}x = h + rcos(t)\\\\ y = k + rsin(t)\\end{cases}\n",
        "and in this case h = -2 and k = 3, r = 5."
      ],
      "metadata": {
        "id": "7_aW4gqWgX5E"
      }
    },
    {
      "cell_type": "code",
      "source": [
        "def x4(t):\n",
        "  return -2 + 5*np.cos(t)\n",
        "def y4(t):\n",
        "  return 3 + 5*np.sin(t)"
      ],
      "metadata": {
        "id": "YFKu6LjQfZhQ"
      },
      "execution_count": 69,
      "outputs": []
    },
    {
      "cell_type": "code",
      "source": [
        "plot(x4,y4)\n",
        "plt.show()"
      ],
      "metadata": {
        "colab": {
          "base_uri": "https://localhost:8080/",
          "height": 295
        },
        "id": "XuiOGzgtf6Bn",
        "outputId": "c83267f8-f8c6-4150-cfcd-730dbb38a9d3"
      },
      "execution_count": 73,
      "outputs": [
        {
          "output_type": "display_data",
          "data": {
            "text/plain": [
              "<Figure size 432x288 with 1 Axes>"
            ],
            "image/png": "[encoded data removed]"
          },
          "metadata": {
            "needs_background": "light"
          }
        }
      ]
    }
  ]
}