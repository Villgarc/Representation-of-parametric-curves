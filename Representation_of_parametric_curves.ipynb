{
  "nbformat": 4,
  "nbformat_minor": 0,
  "metadata": {
    "colab": {
      "name": "Representation of parametric curves.ipynb",
      "provenance": [],
      "collapsed_sections": [],
      "authorship_tag": "ABX9TyOOPqzq4FlZiz+MNqkIgPKt",
      "include_colab_link": true
    },
    "kernelspec": {
      "name": "python3",
      "display_name": "Python 3"
    },
    "language_info": {
      "name": "python"
    }
  },
  "cells": [
    {
      "cell_type": "markdown",
      "metadata": {
        "id": "view-in-github",
        "colab_type": "text"
      },
      "source": [
        "<a href=\"https://colab.research.google.com/github/Villgarc/Representation-of-parametric-curves/blob/main/Representation_of_parametric_curves.ipynb\" target=\"_parent\"><img src=\"https://colab.research.google.com/assets/colab-badge.svg\" alt=\"Open In Colab\"/></a>"
      ]
    },
    {
      "cell_type": "code",
      "execution_count": 19,
      "metadata": {
        "id": "E79reVWiLZsK"
      },
      "outputs": [],
      "source": [
        "import matplotlib.pyplot as plt\n",
        "import numpy as np\n",
        "import pandas as pd"
      ]
    },
    {
      "cell_type": "code",
      "source": [
        "% matplotlib inline"
      ],
      "metadata": {
        "id": "WZrHd55EQd-L"
      },
      "execution_count": 7,
      "outputs": []
    },
    {
      "cell_type": "markdown",
      "source": [
        "## Exercise 1\n",
        "Plot a graph of the following parametric curve.\n",
        "\n",
        "\\begin{cases} x=cos(Θ)\\\\y=2sin(2Θ)\\end{cases}\n"
      ],
      "metadata": {
        "id": "eLwuI6eDLvp7"
      }
    },
    {
      "cell_type": "markdown",
      "source": [
        "Before starting, I will defined a function that will be helpful to represent some curves."
      ],
      "metadata": {
        "id": "bxMOQvgZ1mLG"
      }
    },
    {
      "cell_type": "code",
      "source": [
        "def plot(x_func,y_func,epochs : int = 4000,range_ : list = [-500,500]):\n",
        "  coordinates = []\n",
        "  for i in np.linspace(range_[0],range_[1],epochs):\n",
        "    coordinates.append([x_func(i),y_func(i)])\n",
        "  coordinates = pd.DataFrame(coordinates,columns=['X','Y'])\n",
        "  display(coordinates.head(10))\n",
        "  plt.title('Solution')\n",
        "  plt.xlabel('X')\n",
        "  plt.xlabel('Y')\n",
        "  plt.grid(True)\n",
        "  return plt.plot(coordinates['X'],coordinates['Y'])"
      ],
      "metadata": {
        "id": "1rwXVVFbR7iH"
      },
      "execution_count": 173,
      "outputs": []
    },
    {
      "cell_type": "markdown",
      "source": [
        "First, we defined the functions for x and y in terms of the parameter Θ."
      ],
      "metadata": {
        "id": "-TNge8t70_1C"
      }
    },
    {
      "cell_type": "code",
      "source": [
        "def x1(theta) : \n",
        "  return np.cos(theta)\n",
        "def y1 (theta):\n",
        "  return 2*np.sin(2*theta)"
      ],
      "metadata": {
        "id": "VNOyUT27LuYD"
      },
      "execution_count": 178,
      "outputs": []
    },
    {
      "cell_type": "markdown",
      "source": [
        "Lastly, we plot the curve"
      ],
      "metadata": {
        "id": "hJU6b2Da1YTC"
      }
    },
    {
      "cell_type": "code",
      "source": [
        "plot(x1,y1)\n",
        "plt.show()"
      ],
      "metadata": {
        "colab": {
          "base_uri": "https://localhost:8080/",
          "height": 641
        },
        "id": "7BEC0ZT7QRkZ",
        "outputId": "8435a706-42b9-442f-a724-f3dc14599846"
      },
      "execution_count": 179,
      "outputs": [
        {
          "output_type": "display_data",
          "data": {
            "text/plain": [
              "          X         Y\n",
              "0 -0.883849 -1.653759\n",
              "1 -0.972116 -0.911850\n",
              "2 -0.999911  0.053421\n",
              "3 -0.965505  1.005607\n",
              "4 -0.871039  1.711464\n",
              "5 -0.722390  1.998090\n",
              "6 -0.528803  1.795274\n",
              "7 -0.302321  1.152697\n",
              "8 -0.057033  0.227762\n",
              "9  0.191802 -0.752965"
            ],
            "text/html": [
              "\n",
              "  <div id=\"df-a2b99491-9590-4e24-8420-bcd40a5f750e\">\n",
              "    <div class=\"colab-df-container\">\n",
              "      <div>\n",
              "<style scoped>\n",
              "    .dataframe tbody tr th:only-of-type {\n",
              "        vertical-align: middle;\n",
              "    }\n",
              "\n",
              "    .dataframe tbody tr th {\n",
              "        vertical-align: top;\n",
              "    }\n",
              "\n",
              "    .dataframe thead th {\n",
              "        text-align: right;\n",
              "    }\n",
              "</style>\n",
              "<table border=\"1\" class=\"dataframe\">\n",
              "  <thead>\n",
              "    <tr style=\"text-align: right;\">\n",
              "      <th></th>\n",
              "      <th>X</th>\n",
              "      <th>Y</th>\n",
              "    </tr>\n",
              "  </thead>\n",
              "  <tbody>\n",
              "    <tr>\n",
              "      <th>0</th>\n",
              "      <td>-0.883849</td>\n",
              "      <td>-1.653759</td>\n",
              "    </tr>\n",
              "    <tr>\n",
              "      <th>1</th>\n",
              "      <td>-0.972116</td>\n",
              "      <td>-0.911850</td>\n",
              "    </tr>\n",
              "    <tr>\n",
              "      <th>2</th>\n",
              "      <td>-0.999911</td>\n",
              "      <td>0.053421</td>\n",
              "    </tr>\n",
              "    <tr>\n",
              "      <th>3</th>\n",
              "      <td>-0.965505</td>\n",
              "      <td>1.005607</td>\n",
              "    </tr>\n",
              "    <tr>\n",
              "      <th>4</th>\n",
              "      <td>-0.871039</td>\n",
              "      <td>1.711464</td>\n",
              "    </tr>\n",
              "    <tr>\n",
              "      <th>5</th>\n",
              "      <td>-0.722390</td>\n",
              "      <td>1.998090</td>\n",
              "    </tr>\n",
              "    <tr>\n",
              "      <th>6</th>\n",
              "      <td>-0.528803</td>\n",
              "      <td>1.795274</td>\n",
              "    </tr>\n",
              "    <tr>\n",
              "      <th>7</th>\n",
              "      <td>-0.302321</td>\n",
              "      <td>1.152697</td>\n",
              "    </tr>\n",
              "    <tr>\n",
              "      <th>8</th>\n",
              "      <td>-0.057033</td>\n",
              "      <td>0.227762</td>\n",
              "    </tr>\n",
              "    <tr>\n",
              "      <th>9</th>\n",
              "      <td>0.191802</td>\n",
              "      <td>-0.752965</td>\n",
              "    </tr>\n",
              "  </tbody>\n",
              "</table>\n",
              "</div>\n",
              "      <button class=\"colab-df-convert\" onclick=\"convertToInteractive('df-a2b99491-9590-4e24-8420-bcd40a5f750e')\"\n",
              "              title=\"Convert this dataframe to an interactive table.\"\n",
              "              style=\"display:none;\">\n",
              "        \n",
              "  <svg xmlns=\"http://www.w3.org/2000/svg\" height=\"24px\"viewBox=\"0 0 24 24\"\n",
              "       width=\"24px\">\n",
              "    <path d=\"M0 0h24v24H0V0z\" fill=\"none\"/>\n",
              "    <path d=\"M18.56 5.44l.94 2.06.94-2.06 2.06-.94-2.06-.94-.94-2.06-.94 2.06-2.06.94zm-11 1L8.5 8.5l.94-2.06 2.06-.94-2.06-.94L8.5 2.5l-.94 2.06-2.06.94zm10 10l.94 2.06.94-2.06 2.06-.94-2.06-.94-.94-2.06-.94 2.06-2.06.94z\"/><path d=\"M17.41 7.96l-1.37-1.37c-.4-.4-.92-.59-1.43-.59-.52 0-1.04.2-1.43.59L10.3 9.45l-7.72 7.72c-.78.78-.78 2.05 0 2.83L4 21.41c.39.39.9.59 1.41.59.51 0 1.02-.2 1.41-.59l7.78-7.78 2.81-2.81c.8-.78.8-2.07 0-2.86zM5.41 20L4 18.59l7.72-7.72 1.47 1.35L5.41 20z\"/>\n",
              "  </svg>\n",
              "      </button>\n",
              "      \n",
              "  <style>\n",
              "    .colab-df-container {\n",
              "      display:flex;\n",
              "      flex-wrap:wrap;\n",
              "      gap: 12px;\n",
              "    }\n",
              "\n",
              "    .colab-df-convert {\n",
              "      background-color: #E8F0FE;\n",
              "      border: none;\n",
              "      border-radius: 50%;\n",
              "      cursor: pointer;\n",
              "      display: none;\n",
              "      fill: #1967D2;\n",
              "      height: 32px;\n",
              "      padding: 0 0 0 0;\n",
              "      width: 32px;\n",
              "    }\n",
              "\n",
              "    .colab-df-convert:hover {\n",
              "      background-color: #E2EBFA;\n",
              "      box-shadow: 0px 1px 2px rgba(60, 64, 67, 0.3), 0px 1px 3px 1px rgba(60, 64, 67, 0.15);\n",
              "      fill: #174EA6;\n",
              "    }\n",
              "\n",
              "    [theme=dark] .colab-df-convert {\n",
              "      background-color: #3B4455;\n",
              "      fill: #D2E3FC;\n",
              "    }\n",
              "\n",
              "    [theme=dark] .colab-df-convert:hover {\n",
              "      background-color: #434B5C;\n",
              "      box-shadow: 0px 1px 3px 1px rgba(0, 0, 0, 0.15);\n",
              "      filter: drop-shadow(0px 1px 2px rgba(0, 0, 0, 0.3));\n",
              "      fill: #FFFFFF;\n",
              "    }\n",
              "  </style>\n",
              "\n",
              "      <script>\n",
              "        const buttonEl =\n",
              "          document.querySelector('#df-a2b99491-9590-4e24-8420-bcd40a5f750e button.colab-df-convert');\n",
              "        buttonEl.style.display =\n",
              "          google.colab.kernel.accessAllowed ? 'block' : 'none';\n",
              "\n",
              "        async function convertToInteractive(key) {\n",
              "          const element = document.querySelector('#df-a2b99491-9590-4e24-8420-bcd40a5f750e');\n",
              "          const dataTable =\n",
              "            await google.colab.kernel.invokeFunction('convertToInteractive',\n",
              "                                                     [key], {});\n",
              "          if (!dataTable) return;\n",
              "\n",
              "          const docLinkHtml = 'Like what you see? Visit the ' +\n",
              "            '<a target=\"_blank\" href=https://colab.research.google.com/notebooks/data_table.ipynb>data table notebook</a>'\n",
              "            + ' to learn more about interactive tables.';\n",
              "          element.innerHTML = '';\n",
              "          dataTable['output_type'] = 'display_data';\n",
              "          await google.colab.output.renderOutput(dataTable, element);\n",
              "          const docLink = document.createElement('div');\n",
              "          docLink.innerHTML = docLinkHtml;\n",
              "          element.appendChild(docLink);\n",
              "        }\n",
              "      </script>\n",
              "    </div>\n",
              "  </div>\n",
              "  "
            ]
          },
          "metadata": {}
        },
        {
          "output_type": "display_data",
          "data": {
            "text/plain": [
              "<Figure size 432x288 with 1 Axes>"
            ],
            "image/png": "[encoded data removed]"
          },
          "metadata": {
            "needs_background": "light"
          }
        }
      ]
    },
    {
      "cell_type": "markdown",
      "source": [
        "## Exercise 2\n",
        "Plot the graph of the following curve\n",
        "\n",
        "\\begin{cases}x=sec(t)\\\\y=tan(t)\\end{cases}"
      ],
      "metadata": {
        "id": "74sUzqNcRVOn"
      }
    },
    {
      "cell_type": "markdown",
      "source": [
        "By doing some math and taking into account that $sec^2(Θ)=tan^2(Θ)+1$, we can define the curve as the set of points such that $x^2 - y^2 = 1$, being x the x coordinate of the point and y the y coordinate of the point.\n",
        "\n",
        "If $x^2 - y^2 = 1$, that means that $x = \\pm \\sqrt{x^2 - 1}$. We can use this equation to find the values of x given the values of y. Notice that even if I am using the equation for y in this example, the equation for x in terms of y would work either."
      ],
      "metadata": {
        "id": "YzmEeuoRjV09"
      }
    },
    {
      "cell_type": "code",
      "source": [
        "def y2(x):\n",
        "  return np.sqrt(x**2 -1)\n"
      ],
      "metadata": {
        "id": "2Gpb__1ZRDzO"
      },
      "execution_count": 195,
      "outputs": []
    },
    {
      "cell_type": "markdown",
      "source": [
        "Since we can guess from the equation that the curve is a hyperbola, we can be sure there will be asymptotes. The asymptote would be a funcion of the form $y=mx + n$ where $m=\\lim _{x\\to ∞}\\frac{f(x)}{x} $ and $n= lim_{x\\to∞}f(x) - mx$. In this case,  $f(x) = \\pm \\sqrt{x^2 - 1}$, so there will be two different asymptotes. In this example, x=$\\pm1$ and n=0."
      ],
      "metadata": {
        "id": "Ke8WAoL5pa7y"
      }
    },
    {
      "cell_type": "markdown",
      "source": [
        "It is important to mentioned that the domain of the functions is $(-∞,+∞)$ and its codomain is $(-∞,+∞)\\backslash$$(-1,+1)$"
      ],
      "metadata": {
        "id": "5lFqS_YUvkbX"
      }
    },
    {
      "cell_type": "markdown",
      "source": [
        "Having said that, in order to sketch the graph, the range of values that will be used should not include values of the interval (-1,+1) because within this interval of x the equation for y has no real solutions.\n",
        "Considering that y has two values for a single value of x(one greater than 0 an another smaller than 0) and that it is defined within the real numbers both for values greater than 1 or smaller than -1, it is possible to sketch the curve using just one range of numbers by dividing the plane into four quadrants, two considering the negative value of y, and two considering its positive value. The same happens with x."
      ],
      "metadata": {
        "id": "mi6_3yFt9P9g"
      }
    },
    {
      "cell_type": "code",
      "source": [
        "x2_coor = np.linspace(1,5,100) \n",
        "\n",
        "#First quadrant (x>0,y>0)\n",
        "plt.plot(x2_coor,y2(x2_coor),color='b')\n",
        "# Second quadrant(x<0,y>0)\n",
        "plt.plot(-x2_coor,y2(x2_coor),color='b')\n",
        "# Third quadrant (x<0,y<0)\n",
        "plt.plot(-x2_coor,-y2(x2_coor),color='b')\n",
        "# Fourth quadrant (x>0,y<0)\n",
        "plt.plot(x2_coor,-y2(x2_coor),color='b')\n",
        "\n",
        "#Asymptotes\n",
        "plt.plot(np.arange(-5,5),np.arange(-5,5),color='r')\n",
        "plt.plot(np.arange(-5,5),-np.arange(-5,5),color='y')\n",
        "\n",
        "\n",
        "plt.grid(True)\n",
        "plt.title('Solution')\n",
        "plt.xlabel('X')\n",
        "plt.ylabel('Y')\n",
        "plt.show()"
      ],
      "metadata": {
        "colab": {
          "base_uri": "https://localhost:8080/",
          "height": 295
        },
        "id": "z055uTbuWAaJ",
        "outputId": "a86c6187-b6db-4eea-86d5-3849b46f049d"
      },
      "execution_count": 209,
      "outputs": [
        {
          "output_type": "display_data",
          "data": {
            "text/plain": [
              "<Figure size 432x288 with 1 Axes>"
            ],
            "image/png": "[encoded data removed]"
          },
          "metadata": {
            "needs_background": "light"
          }
        }
      ]
    },
    {
      "cell_type": "markdown",
      "source": [
        "For those who wonder, the reason why I did not use the previous function along the parametric equations to sketch the graph is that generating a range of values for x such that the interval from -1 to +1 was depicted as undefined for y was a challenging task, so working with rectangular coordinates gave me more control about the range of values I could use. Besides, working with rectangular coordinates helps to understand some aspects of the curve."
      ],
      "metadata": {
        "id": "ZWO_7oIREhIh"
      }
    }
  ]
}